{
  "cells": [
    {
      "cell_type": "markdown",
      "metadata": {
        "id": "view-in-github",
        "colab_type": "text"
      },
      "source": [
        "<a href=\"https://colab.research.google.com/github/Nushwa/ML/blob/main/Malaria_Detection.ipynb\" target=\"_parent\"><img src=\"https://colab.research.google.com/assets/colab-badge.svg\" alt=\"Open In Colab\"/></a>"
      ]
    },
    {
      "cell_type": "code",
      "execution_count": 1,
      "id": "d1182883",
      "metadata": {
        "id": "d1182883"
      },
      "outputs": [],
      "source": [
        "#-------------------------------------------------------------------------------------------\n",
        "import pandas as pd\n",
        "import numpy as np\n",
        "import os\n",
        "\n",
        "# Plot Figures:\n",
        "import seaborn as sns\n",
        "import matplotlib as mpl\n",
        "import matplotlib.pyplot as plt\n",
        "from skimage import transform\n",
        "from sklearn.model_selection import train_test_split\n"
      ]
    },
    {
      "cell_type": "code",
      "execution_count": 29,
      "id": "25462009",
      "metadata": {
        "id": "25462009"
      },
      "outputs": [],
      "source": [
        "\n",
        "from pathlib import Path\n",
        "import tensorflow as tf\n",
        "import keras\n"
      ]
    },
    {
      "cell_type": "code",
      "source": [
        "from keras.preprocessing import image"
      ],
      "metadata": {
        "id": "FWUKkIyadVvK"
      },
      "id": "FWUKkIyadVvK",
      "execution_count": 32,
      "outputs": []
    },
    {
      "cell_type": "code",
      "source": [
        "from google.colab import drive\n",
        "drive.mount('/content/drive')"
      ],
      "metadata": {
        "colab": {
          "base_uri": "https://localhost:8080/"
        },
        "id": "Ta3Chzx3biUN",
        "outputId": "9d971d70-06a5-4b3a-8041-6cb18e5fca17"
      },
      "id": "Ta3Chzx3biUN",
      "execution_count": 16,
      "outputs": [
        {
          "output_type": "stream",
          "name": "stdout",
          "text": [
            "Mounted at /content/drive\n"
          ]
        }
      ]
    },
    {
      "cell_type": "code",
      "source": [
        "import zipfile\n",
        "import os\n",
        "\n",
        "zip_ref = zipfile.ZipFile('/content/drive/MyDrive/Colab Notebooks/Malaria Detection/DATASET.zip', 'r') #Opens the zip file in read mode\n",
        "zip_ref.extractall('/tmp') #Extracts the files into the /tmp folder\n",
        "zip_ref.close()"
      ],
      "metadata": {
        "id": "7XlzJqidcLDG"
      },
      "id": "7XlzJqidcLDG",
      "execution_count": 17,
      "outputs": []
    },
    {
      "cell_type": "code",
      "execution_count": 20,
      "id": "fea8424c",
      "metadata": {
        "colab": {
          "base_uri": "https://localhost:8080/"
        },
        "id": "fea8424c",
        "outputId": "64aebc12-4cd7-439c-a021-e0849f4b0f9e"
      },
      "outputs": [
        {
          "output_type": "execute_result",
          "data": {
            "text/plain": [
              "True"
            ]
          },
          "metadata": {},
          "execution_count": 20
        }
      ],
      "source": [
        "parasitized_path = Path('/tmp/DATASET/cell_images') / 'Parasitized'\n",
        "not_parasitized_path = Path('/tmp/DATASET/cell_images') / 'Uninfected'\n",
        "\n",
        "parasitized_path.is_dir()\n",
        "not_parasitized_path.is_dir()"
      ]
    },
    {
      "cell_type": "code",
      "execution_count": 21,
      "id": "776d61e2",
      "metadata": {
        "id": "776d61e2"
      },
      "outputs": [],
      "source": [
        "images = []\n",
        "labels = []\n",
        "\n",
        "# setting the new shape of image:\n",
        "new_shape = (50, 50, 3)"
      ]
    },
    {
      "cell_type": "code",
      "execution_count": 35,
      "id": "8957170d",
      "metadata": {
        "id": "8957170d"
      },
      "outputs": [],
      "source": [
        "import warnings;\n",
        "warnings.filterwarnings('ignore');\n",
        "\n",
        "# Load all the non-malaria images and setting their Y label as 0\n",
        "for img in not_parasitized_path.glob(\"*.png\"):\n",
        "    img = keras.utils.load_img(img)\n",
        "    # Convert the image to a numpy array\n",
        "    image_array = keras.utils.img_to_array(img)\n",
        "    \n",
        "    #Data Augmentation\n",
        "    # resize the image:\n",
        "    image_array = transform.resize(image_array, new_shape, anti_aliasing=True)\n",
        "    \n",
        "    # scaling the image \n",
        "    image_array /= 255\n",
        "    images.append(image_array)\n",
        "\n",
        "    #'not parasitized' image, value should be 0\n",
        "    labels.append(0)"
      ]
    },
    {
      "cell_type": "code",
      "execution_count": 38,
      "id": "4698550d",
      "metadata": {
        "colab": {
          "base_uri": "https://localhost:8080/",
          "height": 298
        },
        "id": "4698550d",
        "outputId": "aa3f3a84-947e-441c-e16d-20fbb78baa66"
      },
      "outputs": [
        {
          "output_type": "execute_result",
          "data": {
            "text/plain": [
              "27558"
            ]
          },
          "metadata": {},
          "execution_count": 38
        },
        {
          "output_type": "display_data",
          "data": {
            "text/plain": [
              "<Figure size 432x288 with 1 Axes>"
            ],
            "image/png": "[encoded data removed]"
          },
          "metadata": {
            "needs_background": "light"
          }
        }
      ],
      "source": [
        "plt.imshow(images[0])\n",
        "plt.title('Sample Uninfected Cell')\n",
        "\"Dimensions of image:\"\n",
        "images[0].shape\n",
        "\n",
        "\"Images / Labels we have imported thus far:\"\n",
        "len(images)\n",
        "len(labels)"
      ]
    },
    {
      "cell_type": "code",
      "execution_count": 37,
      "id": "5f74ec36",
      "metadata": {
        "id": "5f74ec36",
        "outputId": "ebdd69a4-293e-46aa-95b9-b267285e1a76",
        "colab": {
          "base_uri": "https://localhost:8080/",
          "height": 298
        }
      },
      "outputs": [
        {
          "output_type": "execute_result",
          "data": {
            "text/plain": [
              "27558"
            ]
          },
          "metadata": {},
          "execution_count": 37
        },
        {
          "output_type": "display_data",
          "data": {
            "text/plain": [
              "<Figure size 432x288 with 1 Axes>"
            ],
            "image/png": "[encoded data removed]"
          },
          "metadata": {
            "needs_background": "light"
          }
        }
      ],
      "source": [
        "for img in parasitized_path.glob(\"*.png\"):\n",
        "   \n",
        "    # print('for loop')\n",
        "\n",
        "    img = keras.utils.load_img(img)\n",
        "    \n",
        "    # convert image to np array\n",
        "    image_array =  keras.utils.img_to_array(img)\n",
        "    \n",
        "    #Data Augmentation\n",
        "    # resizing\n",
        "    image_array = transform.resize(image_array, new_shape, anti_aliasing=True)\n",
        "    \n",
        "    # scaling the image\n",
        "    image_array /= 255\n",
        "    images.append(image_array) \n",
        "    # if uninfected image then 0\n",
        "    labels.append(1)\n",
        "    \n",
        "plt.imshow(images[-1])\n",
        "plt.title('Sample Infected Cell')\n",
        "\"Dimensions of image: \"\n",
        "images[-1].shape\n",
        "\n",
        "\"images and labels\"\n",
        "len(images)\n",
        "len(labels)"
      ]
    },
    {
      "cell_type": "code",
      "execution_count": 39,
      "id": "53275873",
      "metadata": {
        "id": "53275873",
        "outputId": "5381c54d-a139-4fbb-eeac-9f558c7be6e1",
        "colab": {
          "base_uri": "https://localhost:8080/",
          "height": 319
        }
      },
      "outputs": [
        {
          "output_type": "stream",
          "name": "stdout",
          "text": [
            "AxesImage(54,36;334.8x217.44)\n",
            "1 means it is infected:\n",
            "1\n"
          ]
        },
        {
          "output_type": "display_data",
          "data": {
            "text/plain": [
              "<Figure size 432x288 with 1 Axes>"
            ],
            "image/png": "[encoded data removed]"
          },
          "metadata": {
            "needs_background": "light"
          }
        }
      ],
      "source": [
        "import gc\n",
        "import os\n",
        "from sklearn.utils import shuffle\n",
        "gc.collect()\n",
        "\n",
        "images, labels = shuffle(images, labels)\n",
        "\n",
        "print(plt.imshow(images[-6]))\n",
        "print(\"1 means it is infected:\")\n",
        "\n",
        "print(labels[-6])"
      ]
    },
    {
      "cell_type": "code",
      "execution_count": 40,
      "id": "4968379f",
      "metadata": {
        "id": "4968379f",
        "outputId": "209b624c-bf92-4afb-8d9b-100ffd3b4abb",
        "colab": {
          "base_uri": "https://localhost:8080/"
        }
      },
      "outputs": [
        {
          "output_type": "stream",
          "name": "stdout",
          "text": [
            "X_train shape: (22046, 50, 50, 3)\n",
            "X_test.shape: (5512, 50, 50, 3)\n"
          ]
        }
      ],
      "source": [
        "\n",
        "x_data = np.array(images)\n",
        "y_data = np.array(labels)\n",
        "\n",
        "X_train, X_test, y_train, y_test = train_test_split(x_data, y_data, test_size=0.2, random_state= 0)       \n",
        "\n",
        "X_train = X_train.astype('float32')\n",
        "X_test = X_test.astype('float32')\n",
        "\n",
        "print(f'X_train shape: {X_train.shape}')\n",
        "print(f'X_test.shape: {X_test.shape}')"
      ]
    },
    {
      "cell_type": "code",
      "execution_count": null,
      "id": "976c6ebc",
      "metadata": {
        "id": "976c6ebc",
        "outputId": "60ec4574-6006-4fd5-bd92-eeaedaff0b56"
      },
      "outputs": [
        {
          "data": {
            "text/plain": [
              "array([0, 0, 0])"
            ]
          },
          "execution_count": 61,
          "metadata": {},
          "output_type": "execute_result"
        }
      ],
      "source": [
        "\n",
        "y_train[0:3]"
      ]
    },
    {
      "cell_type": "code",
      "execution_count": 41,
      "id": "d76e3cd6",
      "metadata": {
        "id": "d76e3cd6"
      },
      "outputs": [],
      "source": [
        "from tensorflow.keras.utils import to_categorical\n",
        "y_train = to_categorical(y_train)\n",
        "y_test = to_categorical(y_test)"
      ]
    },
    {
      "cell_type": "code",
      "execution_count": null,
      "id": "4f13844c",
      "metadata": {
        "id": "4f13844c",
        "outputId": "cbed3b2a-e904-493b-cda4-c1a716527def"
      },
      "outputs": [
        {
          "data": {
            "text/plain": [
              "array([[1., 0.],\n",
              "       [1., 0.],\n",
              "       [1., 0.]], dtype=float32)"
            ]
          },
          "execution_count": 63,
          "metadata": {},
          "output_type": "execute_result"
        }
      ],
      "source": [
        "y_train[0:3]"
      ]
    },
    {
      "cell_type": "code",
      "execution_count": 42,
      "id": "b9e47431",
      "metadata": {
        "id": "b9e47431"
      },
      "outputs": [],
      "source": [
        "#CNN Model\n",
        "import keras\n",
        "from keras.models import Sequential\n",
        "from keras.layers import Dense, Dropout, Flatten\n",
        "from keras.layers import Conv2D, MaxPooling2D\n",
        "from keras import backend as K\n",
        "from keras.models import load_model\n",
        "from sklearn.metrics import accuracy_score\n",
        "from sklearn.metrics import classification_report, confusion_matrix\n",
        "import matplotlib.pyplot as plt"
      ]
    },
    {
      "cell_type": "code",
      "execution_count": 48,
      "id": "13b40899",
      "metadata": {
        "id": "13b40899"
      },
      "outputs": [],
      "source": [
        "model = Sequential([\n",
        "    Conv2D(16, kernel_size=(3,3), activation='relu', input_shape=(50, 50, 3)),\n",
        "    MaxPooling2D(pool_size=(2,2)),\n",
        "    Dropout(0.2),\n",
        "    Conv2D(32, kernel_size=(3,3), activation='relu'),\n",
        "    MaxPooling2D(pool_size=(2,2)),\n",
        "    Dropout(0.2),\n",
        "    Conv2D(64, kernel_size=(3,3), activation='relu'),\n",
        "    MaxPooling2D(pool_size=(2,2)),\n",
        "    Dropout(0.2),\n",
        "    \n",
        "    \n",
        "    Flatten(),\n",
        "    Dense(64, activation='relu'),\n",
        "    Dropout(0.2),\n",
        "    Dense(2, activation='sigmoid') #Binary output \n",
        "])"
      ]
    },
    {
      "cell_type": "code",
      "execution_count": 49,
      "id": "7694ca1b",
      "metadata": {
        "id": "7694ca1b"
      },
      "outputs": [],
      "source": [
        "model.compile(optimizer='adam', \n",
        "              loss='binary_crossentropy', # binary classification task\n",
        "              metrics=['accuracy'])"
      ]
    },
    {
      "cell_type": "code",
      "execution_count": 50,
      "id": "bbad2633",
      "metadata": {
        "id": "bbad2633",
        "outputId": "a0202624-c24a-47ba-c698-b04ec23b7abb",
        "colab": {
          "base_uri": "https://localhost:8080/"
        }
      },
      "outputs": [
        {
          "output_type": "stream",
          "name": "stdout",
          "text": [
            "Epoch 1/30\n",
            "147/147 [==============================] - 48s 321ms/step - loss: 0.6435 - accuracy: 0.6331 - val_loss: 0.5999 - val_accuracy: 0.7059\n",
            "Epoch 2/30\n",
            "147/147 [==============================] - 49s 331ms/step - loss: 0.4166 - accuracy: 0.8127 - val_loss: 0.2418 - val_accuracy: 0.9004\n",
            "Epoch 3/30\n",
            "147/147 [==============================] - 47s 317ms/step - loss: 0.2261 - accuracy: 0.9133 - val_loss: 0.2133 - val_accuracy: 0.9213\n",
            "Epoch 4/30\n",
            "147/147 [==============================] - 45s 308ms/step - loss: 0.2064 - accuracy: 0.9262 - val_loss: 0.1944 - val_accuracy: 0.9332\n",
            "Epoch 5/30\n",
            "147/147 [==============================] - 45s 308ms/step - loss: 0.1959 - accuracy: 0.9324 - val_loss: 0.1826 - val_accuracy: 0.9432\n",
            "Epoch 6/30\n",
            "147/147 [==============================] - 45s 310ms/step - loss: 0.1827 - accuracy: 0.9392 - val_loss: 0.1791 - val_accuracy: 0.9363\n",
            "Epoch 7/30\n",
            "147/147 [==============================] - 45s 309ms/step - loss: 0.1744 - accuracy: 0.9435 - val_loss: 0.1660 - val_accuracy: 0.9468\n",
            "Epoch 8/30\n",
            "147/147 [==============================] - 45s 308ms/step - loss: 0.1648 - accuracy: 0.9456 - val_loss: 0.1807 - val_accuracy: 0.9429\n",
            "Epoch 9/30\n",
            "147/147 [==============================] - 45s 308ms/step - loss: 0.1639 - accuracy: 0.9455 - val_loss: 0.1687 - val_accuracy: 0.9438\n",
            "Epoch 10/30\n",
            "147/147 [==============================] - 45s 308ms/step - loss: 0.1570 - accuracy: 0.9490 - val_loss: 0.1693 - val_accuracy: 0.9423\n",
            "Epoch 11/30\n",
            "147/147 [==============================] - 45s 308ms/step - loss: 0.1537 - accuracy: 0.9497 - val_loss: 0.1555 - val_accuracy: 0.9472\n",
            "Epoch 12/30\n",
            "147/147 [==============================] - 45s 307ms/step - loss: 0.1506 - accuracy: 0.9506 - val_loss: 0.1572 - val_accuracy: 0.9492\n",
            "Epoch 13/30\n",
            "147/147 [==============================] - 45s 307ms/step - loss: 0.1454 - accuracy: 0.9525 - val_loss: 0.1524 - val_accuracy: 0.9510\n",
            "Epoch 14/30\n",
            "147/147 [==============================] - 45s 306ms/step - loss: 0.1436 - accuracy: 0.9531 - val_loss: 0.1527 - val_accuracy: 0.9483\n",
            "Epoch 15/30\n",
            "147/147 [==============================] - 45s 305ms/step - loss: 0.1445 - accuracy: 0.9526 - val_loss: 0.1507 - val_accuracy: 0.9503\n",
            "Epoch 16/30\n",
            "147/147 [==============================] - 45s 304ms/step - loss: 0.1379 - accuracy: 0.9554 - val_loss: 0.1467 - val_accuracy: 0.9526\n",
            "Epoch 17/30\n",
            "147/147 [==============================] - 45s 305ms/step - loss: 0.1368 - accuracy: 0.9545 - val_loss: 0.1472 - val_accuracy: 0.9519\n",
            "Epoch 18/30\n",
            "147/147 [==============================] - 45s 305ms/step - loss: 0.1321 - accuracy: 0.9567 - val_loss: 0.1357 - val_accuracy: 0.9532\n",
            "Epoch 19/30\n",
            "147/147 [==============================] - 45s 306ms/step - loss: 0.1343 - accuracy: 0.9564 - val_loss: 0.1395 - val_accuracy: 0.9512\n",
            "Epoch 20/30\n",
            "147/147 [==============================] - 45s 307ms/step - loss: 0.1286 - accuracy: 0.9565 - val_loss: 0.1419 - val_accuracy: 0.9534\n",
            "Epoch 21/30\n",
            "147/147 [==============================] - 45s 306ms/step - loss: 0.1257 - accuracy: 0.9583 - val_loss: 0.1460 - val_accuracy: 0.9492\n",
            "Epoch 22/30\n",
            "147/147 [==============================] - 45s 305ms/step - loss: 0.1262 - accuracy: 0.9577 - val_loss: 0.1458 - val_accuracy: 0.9523\n",
            "Epoch 23/30\n",
            "147/147 [==============================] - 45s 305ms/step - loss: 0.1257 - accuracy: 0.9590 - val_loss: 0.1274 - val_accuracy: 0.9583\n",
            "Epoch 24/30\n",
            "147/147 [==============================] - 45s 306ms/step - loss: 0.1234 - accuracy: 0.9583 - val_loss: 0.1391 - val_accuracy: 0.9508\n",
            "Epoch 25/30\n",
            "147/147 [==============================] - 45s 306ms/step - loss: 0.1218 - accuracy: 0.9596 - val_loss: 0.1330 - val_accuracy: 0.9537\n",
            "Epoch 26/30\n",
            "147/147 [==============================] - 45s 306ms/step - loss: 0.1176 - accuracy: 0.9600 - val_loss: 0.1325 - val_accuracy: 0.9546\n",
            "Epoch 27/30\n",
            "147/147 [==============================] - 45s 306ms/step - loss: 0.1173 - accuracy: 0.9594 - val_loss: 0.1272 - val_accuracy: 0.9568\n",
            "Epoch 28/30\n",
            "147/147 [==============================] - 45s 306ms/step - loss: 0.1158 - accuracy: 0.9600 - val_loss: 0.1308 - val_accuracy: 0.9548\n",
            "Epoch 29/30\n",
            "147/147 [==============================] - 45s 306ms/step - loss: 0.1164 - accuracy: 0.9595 - val_loss: 0.1317 - val_accuracy: 0.9559\n",
            "Epoch 30/30\n",
            "147/147 [==============================] - 45s 304ms/step - loss: 0.1166 - accuracy: 0.9600 - val_loss: 0.1302 - val_accuracy: 0.9548\n"
          ]
        }
      ],
      "source": [
        "# Train the model and test/validate the mode with the test data\n",
        "hist = model.fit(X_train, y_train, batch_size=150, epochs=30, verbose=1, validation_data=(X_test, y_test))"
      ]
    },
    {
      "cell_type": "code",
      "execution_count": 51,
      "id": "655bba3f",
      "metadata": {
        "id": "655bba3f",
        "outputId": "2fdb8f8f-b985-4669-c773-ae86c70ae49a",
        "colab": {
          "base_uri": "https://localhost:8080/"
        }
      },
      "outputs": [
        {
          "output_type": "stream",
          "name": "stdout",
          "text": [
            "Test loss: 0.13018904626369476\n",
            "Test accuracy: 0.9548258185386658\n"
          ]
        }
      ],
      "source": [
        "score = model.evaluate(X_test, y_test, verbose=0)\n",
        "print('Test loss:', score[0])\n",
        "print('Test accuracy:', score[1])"
      ]
    },
    {
      "cell_type": "code",
      "execution_count": 52,
      "id": "f14282f8",
      "metadata": {
        "id": "f14282f8",
        "outputId": "a20216a5-704a-45db-db83-5ac9b076c8b9",
        "colab": {
          "base_uri": "https://localhost:8080/"
        }
      },
      "outputs": [
        {
          "output_type": "stream",
          "name": "stdout",
          "text": [
            "Model: \"sequential_1\"\n",
            "_________________________________________________________________\n",
            " Layer (type)                Output Shape              Param #   \n",
            "=================================================================\n",
            " conv2d_3 (Conv2D)           (None, 48, 48, 16)        448       \n",
            "                                                                 \n",
            " max_pooling2d_3 (MaxPooling  (None, 24, 24, 16)       0         \n",
            " 2D)                                                             \n",
            "                                                                 \n",
            " dropout_4 (Dropout)         (None, 24, 24, 16)        0         \n",
            "                                                                 \n",
            " conv2d_4 (Conv2D)           (None, 22, 22, 32)        4640      \n",
            "                                                                 \n",
            " max_pooling2d_4 (MaxPooling  (None, 11, 11, 32)       0         \n",
            " 2D)                                                             \n",
            "                                                                 \n",
            " dropout_5 (Dropout)         (None, 11, 11, 32)        0         \n",
            "                                                                 \n",
            " conv2d_5 (Conv2D)           (None, 9, 9, 64)          18496     \n",
            "                                                                 \n",
            " max_pooling2d_5 (MaxPooling  (None, 4, 4, 64)         0         \n",
            " 2D)                                                             \n",
            "                                                                 \n",
            " dropout_6 (Dropout)         (None, 4, 4, 64)          0         \n",
            "                                                                 \n",
            " flatten_1 (Flatten)         (None, 1024)              0         \n",
            "                                                                 \n",
            " dense_2 (Dense)             (None, 64)                65600     \n",
            "                                                                 \n",
            " dropout_7 (Dropout)         (None, 64)                0         \n",
            "                                                                 \n",
            " dense_3 (Dense)             (None, 2)                 130       \n",
            "                                                                 \n",
            "=================================================================\n",
            "Total params: 89,314\n",
            "Trainable params: 89,314\n",
            "Non-trainable params: 0\n",
            "_________________________________________________________________\n"
          ]
        }
      ],
      "source": [
        "model.summary()"
      ]
    },
    {
      "cell_type": "code",
      "execution_count": 53,
      "id": "cb90d473",
      "metadata": {
        "id": "cb90d473"
      },
      "outputs": [],
      "source": [
        "model.save('malaria_model.h5')"
      ]
    },
    {
      "cell_type": "code",
      "execution_count": null,
      "id": "d4f148df",
      "metadata": {
        "id": "d4f148df"
      },
      "outputs": [],
      "source": []
    }
  ],
  "metadata": {
    "kernelspec": {
      "display_name": "Python 3 (ipykernel)",
      "language": "python",
      "name": "python3"
    },
    "language_info": {
      "codemirror_mode": {
        "name": "ipython",
        "version": 3
      },
      "file_extension": ".py",
      "mimetype": "text/x-python",
      "name": "python",
      "nbconvert_exporter": "python",
      "pygments_lexer": "ipython3",
      "version": "3.9.7"
    },
    "colab": {
      "provenance": [],
      "collapsed_sections": [],
      "toc_visible": true,
      "include_colab_link": true
    }
  },
  "nbformat": 4,
  "nbformat_minor": 5
}